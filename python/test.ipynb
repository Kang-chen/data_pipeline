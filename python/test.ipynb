{
 "cells": [
  {
   "cell_type": "code",
   "execution_count": 1,
   "id": "c9d4f71b-71f7-43d3-8934-3078cd5787df",
   "metadata": {},
   "outputs": [
    {
     "name": "stdout",
     "output_type": "stream",
     "text": [
      "💡 connected lamindb: fujingge/fujing_test\n"
     ]
    }
   ],
   "source": [
    "# import packages\n",
    "import lamindb as ln\n",
    "import anndata as ad\n",
    "import bionty as bt\n",
    "import scanpy as sc\n",
    "import pandas as pd\n",
    "from fuzzywuzzy import fuzz\n",
    "from fuzzywuzzy import process\n",
    "import subprocess\n",
    "import argparse\n",
    "from GPT import *"
   ]
  },
  {
   "cell_type": "code",
   "execution_count": 8,
   "id": "998efb23-fded-4094-82a0-8434de33d389",
   "metadata": {
    "jupyter": {
     "source_hidden": true
    }
   },
   "outputs": [],
   "source": [
    "class DataProcessor:\n",
    "    def __init__(self, adata_path,source_id):\n",
    "        self.adata = sc.read_h5ad(adata_path)\n",
    "        self.obs_df = self.adata.obs.copy()\n",
    "        self.description = source_id\n",
    "    \n",
    "    def fuzzy_match_columns(self, obs_columns, required_columns):\n",
    "        matched_columns = GPT_for_column(obs_columns)\n",
    "        print(\"Match:\")\n",
    "        for req_col, matched_col in matched_columns.items():\n",
    "            print(f\"{req_col}: {matched_col}\")\n",
    "            if matched_col is not None:\n",
    "                self.obs_df[req_col] = self.obs_df[matched_col]\n",
    "            else:\n",
    "                self.obs_df[req_col] = None\n",
    "        self.adata.obs = self.obs_df\n",
    "\n",
    "    def map_ontology(self, column_name, ontology_class, original_col, mapped_col, ontology_id_col):\n",
    "        bionty = ontology_class.public()\n",
    "        name_mapper = {}\n",
    "        ontology_id_mapper = {}\n",
    "\n",
    "        for name in self.adata.obs[original_col].unique():\n",
    "            if name is not None and isinstance(name, str) and name.strip():\n",
    "                search_result = bionty.search(name)\n",
    "                if not search_result.empty:\n",
    "                    ontology_id = search_result.iloc[0].ontology_id\n",
    "                    # print(name)   \n",
    "                    record = ontology_class.from_source(ontology_id=ontology_id)\n",
    "                    name_mapper[name] = record.name\n",
    "                    ontology_id_mapper[name] = ontology_id\n",
    "                    record.save()\n",
    "                    record.add_synonym(name)\n",
    "                else:\n",
    "                    name_mapper[name] = \"unknown\"\n",
    "                    ontology_id_mapper[name] = \"unknown\"\n",
    "            else:\n",
    "                name_mapper[name] = \"unknown\"\n",
    "                ontology_id_mapper[name] = \"unknown\"\n",
    "        \n",
    "        self.adata.obs[mapped_col] = self.adata.obs[original_col].map(name_mapper)\n",
    "        self.adata.obs[ontology_id_col] = self.adata.obs[original_col].map(ontology_id_mapper)\n",
    "    \n",
    "    def detect_species(self):\n",
    "        gene_ids = self.adata.var_names.unique()\n",
    "        human_count = sum(1 for gene in gene_ids if gene.startswith('ENSG'))\n",
    "        mouse_count = sum(1 for gene in gene_ids if gene.startswith('ENSMUSG'))\n",
    "\n",
    "        if human_count > mouse_count:\n",
    "            return 'human'\n",
    "        elif mouse_count > human_count:\n",
    "            return 'mouse'\n",
    "        else:\n",
    "            return 'unknown'\n",
    "\n",
    "    def process_data(self):\n",
    "        required_columns = [\n",
    "            \"dataset_id\", \n",
    "            \"assay\", \n",
    "            \"cell_type_original\", \n",
    "            \"development_stage_original\", \n",
    "            \"disease_original\",\n",
    "            \"tissue_original\",\n",
    "            \"donor_id\",\n",
    "            \"sex\", \n",
    "            \"is_primary\"\n",
    "        ]\n",
    "        self.fuzzy_match_columns(self.adata.obs.columns.tolist(), required_columns)\n",
    "\n",
    "        # Map various ontologies\n",
    "        self.map_ontology(\"assay\", bt.ExperimentalFactor, \"assay\", \"assay_ontology\", \"assay_ontology_id\")\n",
    "        self.map_ontology(\"cell_type_original\", bt.CellType, \"cell_type_original\", \"cell_type_ontology\", \"cell_type_ontology_id\")\n",
    "        self.map_ontology(\"development_stage_original\", bt.DevelopmentalStage, \"development_stage_original\", \"development_stage_ontology\", \"development_stage_ontology_id\")\n",
    "        self.map_ontology(\"disease_original\", bt.Disease, \"disease_original\", \"disease_ontology\", \"disease_ontology_id\")\n",
    "        self.map_ontology(\"tissue_original\", bt.Tissue, \"tissue_original\", \"tissue_ontology\", \"tissue_ontology_id\")\n",
    "\n",
    "        # Convert all elements of the data box to string type\n",
    "        self.adata.obs = self.adata.obs.applymap(str)\n",
    "\n",
    "        # Define categorical variables and their mappings\n",
    "        categoricals = {\n",
    "            self.adata.obs.assay_ontology.name: bt.ExperimentalFactor.name,\n",
    "            self.adata.obs.cell_type_ontology.name: bt.CellType.name,\n",
    "            self.adata.obs.cell_type_ontology_id.name: bt.CellType.ontology_id,\n",
    "            self.adata.obs.development_stage_ontology.name: bt.DevelopmentalStage.name,\n",
    "            self.adata.obs.development_stage_ontology_id.name: bt.DevelopmentalStage.ontology_id,\n",
    "            self.adata.obs.disease_ontology.name: bt.Disease.name,\n",
    "            self.adata.obs.disease_ontology_id.name: bt.Disease.ontology_id,\n",
    "            self.adata.obs.tissue_ontology.name: bt.Tissue.name,\n",
    "            self.adata.obs.tissue_ontology_id.name: bt.Tissue.ontology_id,\n",
    "        }\n",
    "\n",
    "        # Detect species\n",
    "        species = self.detect_species()\n",
    "\n",
    "        # Create a Curate object to guide validation and annotation\n",
    "        curate = ln.Curate.from_anndata(\n",
    "            self.adata, \n",
    "            var_index=bt.Gene.ensembl_gene_id,\n",
    "            categoricals=categoricals, \n",
    "            organism=species,\n",
    "        )\n",
    "\n",
    "        # Add new records to the database from the variable index\n",
    "        curate.add_new_from_var_index()\n",
    "\n",
    "        # Validate the data\n",
    "        curate.validate()\n",
    "\n",
    "        # Save artifact\n",
    "        artifact = curate.save_artifact(description=self.description)\n",
    "\n",
    "        return artifact"
   ]
  },
  {
   "cell_type": "code",
   "execution_count": 2,
   "id": "2dc00a6a-ce45-4bd8-aa92-22eb17b32d3e",
   "metadata": {},
   "outputs": [],
   "source": [
    "def process_artifact_with_source_id(artifact, source_id):\n",
    "    # 加载Excel文件\n",
    "    file_path = '../test/Data_collection.xlsx'\n",
    "    df = pd.read_excel(file_path)\n",
    "            \n",
    "    # 根据source_id查找对应的行\n",
    "    row = df[df['source_id'] == source_id].squeeze()\n",
    "        \n",
    "    if row.empty:\n",
    "        raise ValueError(f\"No data found for source_id: {source_id}\")\n",
    "\n",
    "\n",
    "    # Feature中 添加信息\n",
    "    ln.Feature(name='data_type', dtype='cat[ULabel]').save()\n",
    "    ln.Feature(name='species', dtype='cat[ULabel]').save()\n",
    "    ln.Feature(name='diseases', dtype='cat[ULabel]').save()\n",
    "    ln.Feature(name='tissue_type', dtype='cat[ULabel]').save()\n",
    "    ln.Feature(name='has_disease_status', dtype='bool').save()\n",
    "    ln.Feature(name='has_cell_type', dtype='bool').save()\n",
    "    ln.Feature(name='has_gender', dtype='bool').save()\n",
    "    ln.Feature(name='has_age', dtype='bool').save()\n",
    "    ln.Feature(name='has_raw_data', dtype='cat[ULabel]').save()\n",
    "    ln.Feature(name='library_protocol', dtype='cat[ULabel]').save()\n",
    "    ln.Feature(name='pubmed_id', dtype='cat[ULabel]').save()\n",
    "    ln.Feature(name='publication_title', dtype='cat[ULabel]').save()\n",
    "    \n",
    "    # 提取需要的列值\n",
    "    data_type = row['data_type']\n",
    "    species = row['species']\n",
    "    diseases = row['diseases']\n",
    "    tissue_type = row['tissue_type']\n",
    "    library_protocol = row['library_protocol']\n",
    "    has_raw_data = str(row['has_raw_data'])\n",
    "    pubmed_id = str(row['pubmed_id']) \n",
    "    publication_title = row['publication_title']\n",
    "\n",
    "    # 转换为ULabel对象并保存\n",
    "    data_type_label = ln.ULabel.from_values([data_type], create=True)\n",
    "    species_label = ln.ULabel.from_values([species], create=True)\n",
    "    diseases_label = ln.ULabel.from_values([diseases], create=True)\n",
    "    tissue_type_label = ln.ULabel.from_values([tissue_type], create=True)\n",
    "    library_protocol_label = ln.ULabel.from_values([library_protocol], create=True)\n",
    "    has_raw_data_label = ln.ULabel.from_values([has_raw_data], create=True)\n",
    "    pubmed_id_label = ln.ULabel.from_values([pubmed_id], create=True)\n",
    "    publication_title_label = ln.ULabel.from_values([publication_title], create=True)\n",
    "    \n",
    "    # 保存这些值\n",
    "    ln.save(data_type_label)\n",
    "    ln.save(species_label)\n",
    "    ln.save(diseases_label)\n",
    "    ln.save(tissue_type_label)\n",
    "    ln.save(library_protocol_label)\n",
    "    ln.save(has_raw_data_label)\n",
    "    ln.save(pubmed_id_label)\n",
    "    ln.save(publication_title_label)\n",
    "\n",
    "    # 将这些值添加到artifact中\n",
    "    artifact.features.add_values({\n",
    "        \"data_type\": data_type_label,\n",
    "        \"species\": species_label,\n",
    "        \"diseases\": diseases_label,\n",
    "        \"tissue_type\": tissue_type_label,\n",
    "        \"has_disease_status\": bool(row['has_disease_status']),\n",
    "        \"has_cell_type\": bool(row['has_cell_type']),\n",
    "        \"has_gender\": bool(row['has_gender']),\n",
    "        \"has_age\": bool(row['has_age']),\n",
    "        \"has_raw_data\": has_raw_data_label,\n",
    "        \"library_protocol\": library_protocol_label,\n",
    "        \"pubmed_id\": pubmed_id_label,\n",
    "        \"publication_title\": publication_title_label\n",
    "    })\n",
    "    artifact.save()\n",
    "\n",
    "    return artifact\n",
    "\n",
    "\n",
    "class LaminDBManager:\n",
    "    def __init__(self, storage_path):\n",
    "        self.storage_path = storage_path\n",
    "\n",
    "    def initialize(self):\n",
    "        subprocess.run(['lamin', 'init', '--storage', self.storage_path, '--schema', 'bionty'])\n",
    "        ln.setup.settings.instance._keep_artifacts_local = True\n",
    "\n",
    "    def close(self):\n",
    "        subprocess.run(['lamin', 'close'])\n",
    "\n",
    "    def list_artifacts(self):\n",
    "        return ln.Artifact.df()\n",
    "\n",
    "    def upload_artifact(self, artifact):\n",
    "        artifact.save(upload=True)\n",
    "\n",
    "    def view_tree(self):\n",
    "        return ln.setup.settings.storage.root.view_tree()"
   ]
  },
  {
   "cell_type": "code",
   "execution_count": 3,
   "id": "49a9541b-8204-40ed-99f9-20f3e2dd91dc",
   "metadata": {},
   "outputs": [],
   "source": [
    "source_id = \"GSE161382\""
   ]
  },
  {
   "cell_type": "code",
   "execution_count": 4,
   "id": "50ad0a66-8f3a-4712-8250-c668166ff645",
   "metadata": {},
   "outputs": [],
   "source": [
    "lamin_db_manager = LaminDBManager('s3://cartabio/ai/data/fujing_test')"
   ]
  },
  {
   "cell_type": "code",
   "execution_count": 5,
   "id": "2774367e-c9b9-4c93-ade3-72afeb0698bf",
   "metadata": {},
   "outputs": [
    {
     "name": "stdout",
     "output_type": "stream",
     "text": [
      "❗ updating & unlocking cloud SQLite 's3://cartabio/ai/data/fujing_test/6d466a133df65d9a8d912b3e3dc44eb5.lndb' of instance 'fujingge/fujing_test'\n",
      "... uploading 6d466a133df65d9a8d912b3e3dc44eb5.lndb: 100.0%\n",
      "❗ updating local SQLite & locking cloud SQLite (sync back & unlock: lamin close)\n",
      "💡 connected lamindb: fujingge/fujing_test\n"
     ]
    }
   ],
   "source": [
    "lamin_db_manager.initialize()"
   ]
  },
  {
   "cell_type": "code",
   "execution_count": 9,
   "id": "15f51dff-69e8-494a-93b1-1b54c77d6b09",
   "metadata": {},
   "outputs": [],
   "source": [
    "processor = DataProcessor('../test/dataforload/kang_processing.h5ad',source_id)"
   ]
  },
  {
   "cell_type": "code",
   "execution_count": 15,
   "id": "81de6f01-b7d7-4acf-a51e-9d2051a854a4",
   "metadata": {
    "collapsed": true,
    "jupyter": {
     "outputs_hidden": true
    },
    "scrolled": true
   },
   "outputs": [
    {
     "name": "stdout",
     "output_type": "stream",
     "text": [
      "GPT column match finish\n",
      "Match:\n",
      "dataset_id: dataset_id\n",
      "assay: assay\n",
      "cell_type_original: cell_type_original\n",
      "development_stage_original: development_stage_original\n",
      "disease_original: disease_original\n",
      "donor_id: donor_id\n",
      "sex: sex\n",
      "tissue_original: tissue_original\n",
      "is_primary: is_primary\n"
     ]
    },
    {
     "name": "stderr",
     "output_type": "stream",
     "text": [
      "/tmp/ipykernel_895312/3134730979.py:78: FutureWarning: DataFrame.applymap has been deprecated. Use DataFrame.map instead.\n",
      "  self.adata.obs = self.adata.obs.applymap(str)\n"
     ]
    },
    {
     "name": "stdout",
     "output_type": "stream",
     "text": [
      "💡 \u001b[1;93m22 non-validated categories are not saved in \u001b[3mFeature.name\u001b[0m: ['total_counts_mt', 'orig.ident', 'development_stage_original', 'is_primary1', 'pct_counts_mt', 'lineage', 'n_genes_by_counts', 'age', 'nFeature_RNA', 'is_primary2', 'total_counts', 'n_features', 'n_genes', 'donor', 'batch', 'celltype', 'seurat_clusters', 'assay_ontology_id', 'nCount_RNA', 'predicted_doublets', 'doublet_scores', 'sample_cell_count']!\u001b[0m\n",
      "      → to lookup categories, use lookup().columns\n",
      "      → to save, run \u001b[1;93madd_new_from_columns\u001b[0m\n",
      "✅ var_index is validated against \u001b[3mGene.ensembl_gene_id\u001b[0m\n",
      "✅ assay_ontology is validated against \u001b[3mExperimentalFactor.name\u001b[0m\n",
      "✅ cell_type_ontology is validated against \u001b[3mCellType.name\u001b[0m\n",
      "✅ cell_type_ontology_id is validated against \u001b[3mCellType.ontology_id\u001b[0m\n",
      "✅ development_stage_ontology is validated against \u001b[3mDevelopmentalStage.name\u001b[0m\n",
      "✅ development_stage_ontology_id is validated against \u001b[3mDevelopmentalStage.ontology_id\u001b[0m\n",
      "✅ disease_ontology is validated against \u001b[3mDisease.name\u001b[0m\n",
      "✅ disease_ontology_id is validated against \u001b[3mDisease.ontology_id\u001b[0m\n",
      "✅ tissue_ontology is validated against \u001b[3mTissue.name\u001b[0m\n",
      "✅ tissue_ontology_id is validated against \u001b[3mTissue.ontology_id\u001b[0m\n",
      "❗ no run & transform get linked, consider calling ln.track()\n",
      "💡 path content will be copied to default storage upon `save()` with key `None` ('.lamindb/2hcSynqm5lc1iOdQ85du.h5ad')\n",
      "✅ storing artifact '2hcSynqm5lc1iOdQ85du' at '/home/ubuntu/fujingge/lamindb/.lamindb/2hcSynqm5lc1iOdQ85du.h5ad'\n",
      "💡 you can auto-track these data as a run input by calling `ln.track()`\n",
      "💡 parsing feature names of X stored in slot 'var'\n",
      "✅    \u001b[1;92m17610 terms\u001b[0m (100.00%) are validated for \u001b[3mensembl_gene_id\u001b[0m\n",
      "✅    linked: FeatureSet(uid='IKBHBtZVadrLynlx8LUI', n=17610, dtype='float', registry='bionty.Gene', hash='VKaxuF0XcvxCwtIdoaUe5g', created_by_id=1)\n",
      "💡 parsing feature names of slot 'obs'\n",
      "✅    \u001b[1;92m17 terms\u001b[0m (43.60%) are validated for \u001b[3mname\u001b[0m\n",
      "❗    \u001b[1;93m22 terms\u001b[0m (56.40%) are not validated for \u001b[3mname\u001b[0m: \u001b[1;93morig.ident, nCount_RNA, nFeature_RNA, seurat_clusters, age, donor, batch, celltype, lineage, is_primary1, n_genes, n_genes_by_counts, total_counts, total_counts_mt, pct_counts_mt, doublet_scores, predicted_doublets, n_features, sample_cell_count, is_primary2, ...\u001b[0m\n",
      "✅    linked: FeatureSet(uid='avK2OOpz7h6JJgCDcIE0', n=17, registry='Feature', hash='VGd1ee8bHL7ODhzVXhkqNg', created_by_id=1)\n",
      "✅ loaded \u001b[1;92m1 ExperimentalFactor record\u001b[0m matching \u001b[3msynonyms\u001b[0m: \u001b[1;92m'unknown'\u001b[0m\n",
      "✅ loaded \u001b[1;92m1 DevelopmentalStage record\u001b[0m matching \u001b[3msynonyms\u001b[0m: \u001b[1;92m'unknown'\u001b[0m\n",
      "✅ loaded \u001b[1;92m1 DevelopmentalStage record\u001b[0m matching \u001b[3msynonyms\u001b[0m: \u001b[1;92m'unknown'\u001b[0m\n",
      "✅ loaded \u001b[1;92m1 Disease record\u001b[0m matching \u001b[3msynonyms\u001b[0m: \u001b[1;92m'unknown'\u001b[0m\n",
      "✅ loaded \u001b[1;92m1 Disease record\u001b[0m matching \u001b[3msynonyms\u001b[0m: \u001b[1;92m'unknown'\u001b[0m\n",
      "✅ loaded \u001b[1;92m1 Tissue record\u001b[0m matching \u001b[3msynonyms\u001b[0m: \u001b[1;92m'unknown'\u001b[0m\n",
      "✅ loaded \u001b[1;92m1 Tissue record\u001b[0m matching \u001b[3msynonyms\u001b[0m: \u001b[1;92m'unknown'\u001b[0m\n",
      "💡 go to https://lamin.ai/fujingge/fujing_test/artifact/2hcSynqm5lc1iOdQ85du\n"
     ]
    }
   ],
   "source": [
    "artifact = processor.process_data()"
   ]
  },
  {
   "cell_type": "code",
   "execution_count": 16,
   "id": "b67da7f7-8039-4ba9-a59e-2bcbae6db501",
   "metadata": {},
   "outputs": [
    {
     "name": "stdout",
     "output_type": "stream",
     "text": [
      "\u001b[1;92mArtifact\u001b[0m(uid='2hcSynqm5lc1iOdQ85du', description='GSE161382', suffix='.h5ad', type='dataset', _accessor='AnnData', size=535253343, hash='hrMxihqEE2j3H0IzxPEzB7', _hash_type='sha1-fl', n_observations=46331, visibility=1, _key_is_virtual=True, updated_at='2024-08-15 14:43:25 UTC')\n",
      "  \u001b[3mProvenance\u001b[0m\n",
      "    .created_by = 'fujingge'\n",
      "    .storage = '/home/ubuntu/fujingge/lamindb'\n",
      "  \u001b[3mLabels\u001b[0m\n",
      "    .tissues = 'bronchus smooth muscle'\n",
      "    .cell_types = 'B cell', 'endothelial cell of artery', 'alveolar type 2 fibroblast cell', 'bronchial goblet cell', 'type II pneumocyte', 'marrow fibroblast', 'capillary endothelial cell', 'T cell', 'alveolar type 1 fibroblast cell', 'chondrocyte', ...\n",
      "    .diseases = 'cancer of unknown primary site'\n",
      "    .experimental_factors = 'monoclonal gammopathy'\n",
      "    .developmental_stages = 'under-1-year-old human stage'\n",
      "  \u001b[3mFeatures\u001b[0m\n",
      "    'assay_ontology' = 'monoclonal gammopathy'\n",
      "    'cell_type_ontology_id' = 'B cell', 'endothelial cell of artery', 'alveolar type 2 fibroblast cell', 'bronchial goblet cell', 'type II pneumocyte', 'marrow fibroblast', 'capillary endothelial cell', 'T cell', 'alveolar type 1 fibroblast cell', 'chondrocyte', ...\n",
      "    'development_stage_ontology_id' = 'under-1-year-old human stage'\n",
      "    'disease_ontology_id' = 'cancer of unknown primary site'\n",
      "    'tissue_ontology_id' = 'bronchus smooth muscle'\n",
      "  \u001b[3mFeature sets\u001b[0m\n",
      "    'var' = 'TNFRSF4', 'INTS11', 'ATAD3C', 'FAAP20', 'RER1', 'TNFRSF25', 'TNFRSF9', 'CTNNBIP1', 'SRM', 'UBIAD1', 'DRAXIN', 'TNFRSF1B', 'PRDM2', 'EFHD2', 'DDI2', 'SPEN', 'SDHB', 'CAPZB', 'CAMK2N1', 'CDA'\n",
      "    'obs' = 'dataset_id', 'assay', 'cell_type_ontology', 'disease_ontology', 'donor_id', 'sex', 'tissue_ontology', 'tissue_original', 'is_primary', 'cell_type_original', 'disease_original', 'cell_type_ontology_id', 'development_stage_ontology', 'development_stage_ontology_id', 'disease_ontology_id', 'tissue_ontology_id', 'assay_ontology'\n",
      "\n"
     ]
    }
   ],
   "source": [
    "artifact.describe()"
   ]
  },
  {
   "cell_type": "code",
   "execution_count": 17,
   "id": "28a455c2-bb7e-46c9-b673-35795ddfb591",
   "metadata": {
    "collapsed": true,
    "jupyter": {
     "outputs_hidden": true
    }
   },
   "outputs": [
    {
     "name": "stdout",
     "output_type": "stream",
     "text": [
      "💡 returning existing Feature record with same name: 'data_type'\n",
      "💡 returning existing Feature record with same name: 'species'\n",
      "💡 returning existing Feature record with same name: 'diseases'\n",
      "💡 returning existing Feature record with same name: 'tissue_type'\n",
      "💡 returning existing Feature record with same name: 'has_disease_status'\n",
      "💡 returning existing Feature record with same name: 'has_cell_type'\n",
      "💡 returning existing Feature record with same name: 'has_gender'\n",
      "💡 returning existing Feature record with same name: 'has_age'\n",
      "💡 returning existing Feature record with same name: 'has_raw_data'\n",
      "💡 returning existing Feature record with same name: 'library_protocol'\n",
      "💡 returning existing Feature record with same name: 'pubmed_id'\n",
      "💡 returning existing Feature record with same name: 'publication_title'\n",
      "💡 returning existing ULabel record with same name: 'scRNA-seq'\n",
      "💡 returning existing ULabel record with same name: 'Homo sapiens'\n",
      "💡 returning existing ULabel record with same name: 'Health'\n",
      "💡 returning existing ULabel record with same name: 'lung'\n",
      "💡 returning existing ULabel record with same name: '10X'\n"
     ]
    },
    {
     "ename": "TypeError",
     "evalue": "object of type 'bool' has no len()",
     "output_type": "error",
     "traceback": [
      "\u001b[0;31m---------------------------------------------------------------------------\u001b[0m",
      "\u001b[0;31mTypeError\u001b[0m                                 Traceback (most recent call last)",
      "Cell \u001b[0;32mIn[17], line 1\u001b[0m\n\u001b[0;32m----> 1\u001b[0m artifact \u001b[38;5;241m=\u001b[39m process_artifact_with_source_id(artifact, source_id)\n",
      "Cell \u001b[0;32mIn[2], line 43\u001b[0m, in \u001b[0;36mprocess_artifact_with_source_id\u001b[0;34m(artifact, source_id)\u001b[0m\n\u001b[1;32m     41\u001b[0m tissue_type_label \u001b[38;5;241m=\u001b[39m ln\u001b[38;5;241m.\u001b[39mULabel\u001b[38;5;241m.\u001b[39mfrom_values([tissue_type], create\u001b[38;5;241m=\u001b[39m\u001b[38;5;28;01mTrue\u001b[39;00m)\n\u001b[1;32m     42\u001b[0m library_protocol_label \u001b[38;5;241m=\u001b[39m ln\u001b[38;5;241m.\u001b[39mULabel\u001b[38;5;241m.\u001b[39mfrom_values([library_protocol], create\u001b[38;5;241m=\u001b[39m\u001b[38;5;28;01mTrue\u001b[39;00m)\n\u001b[0;32m---> 43\u001b[0m has_raw_data_label \u001b[38;5;241m=\u001b[39m ln\u001b[38;5;241m.\u001b[39mULabel\u001b[38;5;241m.\u001b[39mfrom_values([has_raw_data], create\u001b[38;5;241m=\u001b[39m\u001b[38;5;28;01mTrue\u001b[39;00m)\n\u001b[1;32m     44\u001b[0m pubmed_id_label \u001b[38;5;241m=\u001b[39m ln\u001b[38;5;241m.\u001b[39mULabel\u001b[38;5;241m.\u001b[39mfrom_values([pubmed_id], create\u001b[38;5;241m=\u001b[39m\u001b[38;5;28;01mTrue\u001b[39;00m)\n\u001b[1;32m     45\u001b[0m publication_title_label \u001b[38;5;241m=\u001b[39m ln\u001b[38;5;241m.\u001b[39mULabel\u001b[38;5;241m.\u001b[39mfrom_values([publication_title], create\u001b[38;5;241m=\u001b[39m\u001b[38;5;28;01mTrue\u001b[39;00m)\n",
      "File \u001b[0;32m~/miniconda3/envs/lamindb/lib/python3.11/site-packages/lamindb/_record.py:172\u001b[0m, in \u001b[0;36mfrom_values\u001b[0;34m(cls, values, field, create, organism, source, mute)\u001b[0m\n\u001b[1;32m    170\u001b[0m     from_source \u001b[38;5;241m=\u001b[39m \u001b[38;5;28;01mFalse\u001b[39;00m\n\u001b[1;32m    171\u001b[0m field_str \u001b[38;5;241m=\u001b[39m get_name_field(\u001b[38;5;28mcls\u001b[39m, field\u001b[38;5;241m=\u001b[39mfield)\n\u001b[0;32m--> 172\u001b[0m \u001b[38;5;28;01mreturn\u001b[39;00m get_or_create_records(\n\u001b[1;32m    173\u001b[0m     iterable\u001b[38;5;241m=\u001b[39mvalues,\n\u001b[1;32m    174\u001b[0m     field\u001b[38;5;241m=\u001b[39m\u001b[38;5;28mgetattr\u001b[39m(\u001b[38;5;28mcls\u001b[39m, field_str),\n\u001b[1;32m    175\u001b[0m     create\u001b[38;5;241m=\u001b[39mcreate,\n\u001b[1;32m    176\u001b[0m     from_source\u001b[38;5;241m=\u001b[39mfrom_source,\n\u001b[1;32m    177\u001b[0m     organism\u001b[38;5;241m=\u001b[39morganism,\n\u001b[1;32m    178\u001b[0m     source\u001b[38;5;241m=\u001b[39msource,\n\u001b[1;32m    179\u001b[0m     mute\u001b[38;5;241m=\u001b[39mmute,\n\u001b[1;32m    180\u001b[0m )\n",
      "File \u001b[0;32m~/miniconda3/envs/lamindb/lib/python3.11/site-packages/lamindb/_from_values.py:30\u001b[0m, in \u001b[0;36mget_or_create_records\u001b[0;34m(iterable, field, create, from_source, organism, source, mute)\u001b[0m\n\u001b[1;32m     28\u001b[0m Record \u001b[38;5;241m=\u001b[39m field\u001b[38;5;241m.\u001b[39mfield\u001b[38;5;241m.\u001b[39mmodel\n\u001b[1;32m     29\u001b[0m \u001b[38;5;28;01mif\u001b[39;00m create:\n\u001b[0;32m---> 30\u001b[0m     \u001b[38;5;28;01mreturn\u001b[39;00m [Record(\u001b[38;5;241m*\u001b[39m\u001b[38;5;241m*\u001b[39m{field\u001b[38;5;241m.\u001b[39mfield\u001b[38;5;241m.\u001b[39mname: value}) \u001b[38;5;28;01mfor\u001b[39;00m value \u001b[38;5;129;01min\u001b[39;00m iterable]\n\u001b[1;32m     31\u001b[0m creation_search_names \u001b[38;5;241m=\u001b[39m settings\u001b[38;5;241m.\u001b[39mcreation\u001b[38;5;241m.\u001b[39msearch_names\n\u001b[1;32m     32\u001b[0m feature: Feature \u001b[38;5;241m=\u001b[39m \u001b[38;5;28;01mNone\u001b[39;00m\n",
      "File \u001b[0;32m~/miniconda3/envs/lamindb/lib/python3.11/site-packages/lamindb/_from_values.py:30\u001b[0m, in \u001b[0;36m<listcomp>\u001b[0;34m(.0)\u001b[0m\n\u001b[1;32m     28\u001b[0m Record \u001b[38;5;241m=\u001b[39m field\u001b[38;5;241m.\u001b[39mfield\u001b[38;5;241m.\u001b[39mmodel\n\u001b[1;32m     29\u001b[0m \u001b[38;5;28;01mif\u001b[39;00m create:\n\u001b[0;32m---> 30\u001b[0m     \u001b[38;5;28;01mreturn\u001b[39;00m [Record(\u001b[38;5;241m*\u001b[39m\u001b[38;5;241m*\u001b[39m{field\u001b[38;5;241m.\u001b[39mfield\u001b[38;5;241m.\u001b[39mname: value}) \u001b[38;5;28;01mfor\u001b[39;00m value \u001b[38;5;129;01min\u001b[39;00m iterable]\n\u001b[1;32m     31\u001b[0m creation_search_names \u001b[38;5;241m=\u001b[39m settings\u001b[38;5;241m.\u001b[39mcreation\u001b[38;5;241m.\u001b[39msearch_names\n\u001b[1;32m     32\u001b[0m feature: Feature \u001b[38;5;241m=\u001b[39m \u001b[38;5;28;01mNone\u001b[39;00m\n",
      "File \u001b[0;32m~/miniconda3/envs/lamindb/lib/python3.11/site-packages/lamindb/_ulabel.py:34\u001b[0m, in \u001b[0;36m__init__\u001b[0;34m(self, *args, **kwargs)\u001b[0m\n\u001b[1;32m     30\u001b[0m \u001b[38;5;28;01mif\u001b[39;00m \u001b[38;5;28mlen\u001b[39m(kwargs) \u001b[38;5;241m>\u001b[39m \u001b[38;5;241m0\u001b[39m:\n\u001b[1;32m     31\u001b[0m     \u001b[38;5;28;01mraise\u001b[39;00m \u001b[38;5;167;01mValueError\u001b[39;00m(\n\u001b[1;32m     32\u001b[0m         \u001b[38;5;124m\"\u001b[39m\u001b[38;5;124mOnly name, description, reference, reference_type are valid keyword arguments\u001b[39m\u001b[38;5;124m\"\u001b[39m\n\u001b[1;32m     33\u001b[0m     )\n\u001b[0;32m---> 34\u001b[0m \u001b[38;5;28msuper\u001b[39m(ULabel, \u001b[38;5;28mself\u001b[39m)\u001b[38;5;241m.\u001b[39m\u001b[38;5;21m__init__\u001b[39m(\n\u001b[1;32m     35\u001b[0m     name\u001b[38;5;241m=\u001b[39mname,\n\u001b[1;32m     36\u001b[0m     description\u001b[38;5;241m=\u001b[39mdescription,\n\u001b[1;32m     37\u001b[0m     reference\u001b[38;5;241m=\u001b[39mreference,\n\u001b[1;32m     38\u001b[0m     reference_type\u001b[38;5;241m=\u001b[39mreference_type,\n\u001b[1;32m     39\u001b[0m )\n",
      "File \u001b[0;32m~/miniconda3/envs/lamindb/lib/python3.11/site-packages/lamindb/_record.py:90\u001b[0m, in \u001b[0;36m__init__\u001b[0;34m(record, *args, **kwargs)\u001b[0m\n\u001b[1;32m     88\u001b[0m     has_consciously_provided_uid \u001b[38;5;241m=\u001b[39m kwargs\u001b[38;5;241m.\u001b[39mpop(\u001b[38;5;124m\"\u001b[39m\u001b[38;5;124m_has_consciously_provided_uid\u001b[39m\u001b[38;5;124m\"\u001b[39m)\n\u001b[1;32m     89\u001b[0m \u001b[38;5;28;01mif\u001b[39;00m settings\u001b[38;5;241m.\u001b[39mcreation\u001b[38;5;241m.\u001b[39msearch_names \u001b[38;5;129;01mand\u001b[39;00m \u001b[38;5;129;01mnot\u001b[39;00m has_consciously_provided_uid:\n\u001b[0;32m---> 90\u001b[0m     match \u001b[38;5;241m=\u001b[39m suggest_records_with_similar_names(record, kwargs)\n\u001b[1;32m     91\u001b[0m     \u001b[38;5;28;01mif\u001b[39;00m match:\n\u001b[1;32m     92\u001b[0m         \u001b[38;5;28;01mif\u001b[39;00m \u001b[38;5;124m\"\u001b[39m\u001b[38;5;124mversion\u001b[39m\u001b[38;5;124m\"\u001b[39m \u001b[38;5;129;01min\u001b[39;00m kwargs:\n",
      "File \u001b[0;32m~/miniconda3/envs/lamindb/lib/python3.11/site-packages/lamindb/_record.py:59\u001b[0m, in \u001b[0;36msuggest_records_with_similar_names\u001b[0;34m(record, kwargs)\u001b[0m\n\u001b[1;32m     57\u001b[0m \u001b[38;5;28;01mif\u001b[39;00m kwargs\u001b[38;5;241m.\u001b[39mget(\u001b[38;5;124m\"\u001b[39m\u001b[38;5;124mname\u001b[39m\u001b[38;5;124m\"\u001b[39m) \u001b[38;5;129;01mis\u001b[39;00m \u001b[38;5;28;01mNone\u001b[39;00m:\n\u001b[1;32m     58\u001b[0m     \u001b[38;5;28;01mreturn\u001b[39;00m \u001b[38;5;28;01mFalse\u001b[39;00m\n\u001b[0;32m---> 59\u001b[0m queryset \u001b[38;5;241m=\u001b[39m _search(\n\u001b[1;32m     60\u001b[0m     record\u001b[38;5;241m.\u001b[39m\u001b[38;5;18m__class__\u001b[39m, kwargs[\u001b[38;5;124m\"\u001b[39m\u001b[38;5;124mname\u001b[39m\u001b[38;5;124m\"\u001b[39m], field\u001b[38;5;241m=\u001b[39m\u001b[38;5;124m\"\u001b[39m\u001b[38;5;124mname\u001b[39m\u001b[38;5;124m\"\u001b[39m, truncate_words\u001b[38;5;241m=\u001b[39m\u001b[38;5;28;01mTrue\u001b[39;00m, limit\u001b[38;5;241m=\u001b[39m\u001b[38;5;241m20\u001b[39m\n\u001b[1;32m     61\u001b[0m )\n\u001b[1;32m     62\u001b[0m \u001b[38;5;28;01mif\u001b[39;00m \u001b[38;5;129;01mnot\u001b[39;00m queryset\u001b[38;5;241m.\u001b[39mexists():  \u001b[38;5;66;03m# empty queryset\u001b[39;00m\n\u001b[1;32m     63\u001b[0m     \u001b[38;5;28;01mreturn\u001b[39;00m \u001b[38;5;28;01mFalse\u001b[39;00m\n",
      "File \u001b[0;32m~/miniconda3/envs/lamindb/lib/python3.11/site-packages/lamindb/_record.py:233\u001b[0m, in \u001b[0;36m_search\u001b[0;34m(cls, string, field, limit, case_sensitive, using_key, truncate_words)\u001b[0m\n\u001b[1;32m    230\u001b[0m decomposed_string \u001b[38;5;241m+\u001b[39m\u001b[38;5;241m=\u001b[39m [string]\n\u001b[1;32m    231\u001b[0m \u001b[38;5;28;01mfor\u001b[39;00m word \u001b[38;5;129;01min\u001b[39;00m decomposed_string:\n\u001b[1;32m    232\u001b[0m     \u001b[38;5;66;03m# will not search against words with 3 or fewer characters\u001b[39;00m\n\u001b[0;32m--> 233\u001b[0m     \u001b[38;5;28;01mif\u001b[39;00m \u001b[38;5;28mlen\u001b[39m(word) \u001b[38;5;241m<\u001b[39m\u001b[38;5;241m=\u001b[39m \u001b[38;5;241m3\u001b[39m:\n\u001b[1;32m    234\u001b[0m         decomposed_string\u001b[38;5;241m.\u001b[39mremove(word)\n\u001b[1;32m    235\u001b[0m \u001b[38;5;28;01mif\u001b[39;00m truncate_words:\n",
      "\u001b[0;31mTypeError\u001b[0m: object of type 'bool' has no len()"
     ]
    }
   ],
   "source": [
    "artifact = process_artifact_with_source_id(artifact, source_id)"
   ]
  },
  {
   "cell_type": "code",
   "execution_count": null,
   "id": "c4d17555-db8a-41c4-b3ad-b94ff2d8e251",
   "metadata": {},
   "outputs": [],
   "source": []
  },
  {
   "cell_type": "code",
   "execution_count": null,
   "id": "d13ce233-a722-4e73-b97b-1641422110ea",
   "metadata": {},
   "outputs": [],
   "source": []
  },
  {
   "cell_type": "code",
   "execution_count": null,
   "id": "335d4672-b6bd-49a3-afb6-facf05c46d1d",
   "metadata": {},
   "outputs": [],
   "source": []
  },
  {
   "cell_type": "code",
   "execution_count": 20,
   "id": "449eedac-526b-47b7-ad9a-55a293016359",
   "metadata": {},
   "outputs": [],
   "source": [
    "file_path = '../test/Data_collection.xlsx'"
   ]
  },
  {
   "cell_type": "code",
   "execution_count": 21,
   "id": "e7a21246-60e7-4eaa-b9c8-5b288cd3212f",
   "metadata": {},
   "outputs": [],
   "source": [
    "df = pd.read_excel(file_path)"
   ]
  },
  {
   "cell_type": "code",
   "execution_count": 22,
   "id": "0069dea9-ed79-4412-b960-f18737900ff0",
   "metadata": {},
   "outputs": [],
   "source": [
    "row = df[df['source_id'] == source_id].squeeze()"
   ]
  },
  {
   "cell_type": "code",
   "execution_count": 28,
   "id": "0d7e85d6-60f8-4755-8aec-033a81deae11",
   "metadata": {},
   "outputs": [],
   "source": [
    "has_raw_data = str(row['has_raw_data'])"
   ]
  },
  {
   "cell_type": "code",
   "execution_count": 24,
   "id": "3c6c6286-37d5-426f-b2ca-c84b4566d7b7",
   "metadata": {},
   "outputs": [
    {
     "name": "stdout",
     "output_type": "stream",
     "text": [
      "💡 returning existing Feature record with same name: 'has_raw_data'\n"
     ]
    },
    {
     "data": {
      "text/plain": [
       "Feature(uid='Ze71acDFUJJV', name='has_raw_data', dtype='cat[ULabel]', created_by_id=1, updated_at='2024-08-15 14:45:40 UTC')"
      ]
     },
     "execution_count": 24,
     "metadata": {},
     "output_type": "execute_result"
    }
   ],
   "source": [
    "ln.Feature(name='has_raw_data', dtype='cat[ULabel]').save()"
   ]
  },
  {
   "cell_type": "code",
   "execution_count": 29,
   "id": "ede4803a-781f-4700-ac73-374d106d5a6d",
   "metadata": {},
   "outputs": [],
   "source": [
    "has_raw_data_label = ln.ULabel.from_values([has_raw_data], create=True)"
   ]
  },
  {
   "cell_type": "code",
   "execution_count": null,
   "id": "106a523a-bb98-4e0a-b856-c1cb28727e96",
   "metadata": {},
   "outputs": [],
   "source": []
  },
  {
   "cell_type": "code",
   "execution_count": null,
   "id": "9b46a6ef-21b8-4380-9d04-92dc48d21487",
   "metadata": {},
   "outputs": [],
   "source": []
  },
  {
   "cell_type": "code",
   "execution_count": null,
   "id": "90b02804-4e1a-4dbe-8e3f-d13495d90c1e",
   "metadata": {},
   "outputs": [],
   "source": []
  },
  {
   "cell_type": "code",
   "execution_count": null,
   "id": "593f0457-8b4a-45b5-88c1-2a64252944a3",
   "metadata": {},
   "outputs": [],
   "source": []
  },
  {
   "cell_type": "code",
   "execution_count": null,
   "id": "d3437a4d-01df-4146-a323-8691a89ebed5",
   "metadata": {},
   "outputs": [],
   "source": [
    "# Main workflow\n",
    "def main():\n",
    "    # 创建解析器对象\n",
    "    parser = argparse.ArgumentParser(description='Process some integers.')\n",
    "\n",
    "    # 添加参数\n",
    "    parser.add_argument('--source_id', type=str, required=True, help='The source ID to process')\n",
    "\n",
    "    # 解析参数\n",
    "    args = parser.parse_args()\n",
    "\n",
    "    # 获取参数值\n",
    "    source_id = args.source_id\n",
    "\n",
    "    # 打印参数值\n",
    "    print(f'Source ID: {source_id}')\n",
    "    # source_id = \"GSE161382\"\n",
    "    \n",
    "    \n",
    "\n",
    "    # \n",
    "    \n",
    "\n",
    "    # 添加descrition\n",
    "    \n",
    "\n",
    "    print(lamin_db_manager.list_artifacts())\n",
    "    lamin_db_manager.upload_artifact(artifact)\n",
    "    lamin_db_manager.view_tree()\n",
    "\n",
    "    lamin_db_manager.close()\n",
    "\n",
    "if __name__ == \"__main__\":\n",
    "    main()"
   ]
  },
  {
   "cell_type": "code",
   "execution_count": null,
   "id": "d999731f-ea85-4b39-85e6-1a515b559e69",
   "metadata": {},
   "outputs": [],
   "source": []
  },
  {
   "cell_type": "code",
   "execution_count": null,
   "id": "15f1b84d-887c-4c81-87b3-c4ac87e3343d",
   "metadata": {},
   "outputs": [],
   "source": []
  },
  {
   "cell_type": "code",
   "execution_count": null,
   "id": "e4637e99-9b9d-4030-a93a-3891804419f6",
   "metadata": {},
   "outputs": [],
   "source": []
  },
  {
   "cell_type": "code",
   "execution_count": null,
   "id": "42365d45-fe86-482d-be29-026460dd9d76",
   "metadata": {},
   "outputs": [],
   "source": []
  },
  {
   "cell_type": "code",
   "execution_count": null,
   "id": "41743b71-dd47-450b-9ef6-e9e4b79d0762",
   "metadata": {},
   "outputs": [],
   "source": []
  },
  {
   "cell_type": "code",
   "execution_count": null,
   "id": "2143e721-80f5-4758-adc8-41a1f577ad6e",
   "metadata": {},
   "outputs": [],
   "source": []
  },
  {
   "cell_type": "code",
   "execution_count": null,
   "id": "8d2b1bf9-e6c7-4be8-b661-e853df517a23",
   "metadata": {},
   "outputs": [],
   "source": []
  }
 ],
 "metadata": {
  "kernelspec": {
   "display_name": "lamindb",
   "language": "python",
   "name": "lamindb"
  },
  "language_info": {
   "codemirror_mode": {
    "name": "ipython",
    "version": 3
   },
   "file_extension": ".py",
   "mimetype": "text/x-python",
   "name": "python",
   "nbconvert_exporter": "python",
   "pygments_lexer": "ipython3",
   "version": "3.11.9"
  }
 },
 "nbformat": 4,
 "nbformat_minor": 5
}
